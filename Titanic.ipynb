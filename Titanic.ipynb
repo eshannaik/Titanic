{
  "nbformat": 4,
  "nbformat_minor": 0,
  "metadata": {
    "colab": {
      "name": "Copy of Titanic.ipynb",
      "provenance": [],
      "collapsed_sections": [],
      "toc_visible": true
    },
    "kernelspec": {
      "name": "python3",
      "display_name": "Python 3"
    },
    "language_info": {
      "name": "python"
    }
  },
  "cells": [
    {
      "cell_type": "markdown",
      "metadata": {
        "id": "aBUWnUrm1QGn"
      },
      "source": [
        "#Titanic Survival Prediction"
      ]
    },
    {
      "cell_type": "markdown",
      "metadata": {
        "id": "J12SmAb81WN9"
      },
      "source": [
        "### Importing and understanding the data"
      ]
    },
    {
      "cell_type": "code",
      "metadata": {
        "id": "SzGVwkgpEsGm"
      },
      "source": [
        "import pandas as pd\n",
        "import numpy as np\n",
        "import matplotlib.pyplot as plt\n",
        "import seaborn as sns\n",
        "from sklearn.model_selection import train_test_split\n",
        "import keras\n",
        "from keras.models import Model,Sequential\n",
        "from keras.layers import Dense,Dropout"
      ],
      "execution_count": 931,
      "outputs": []
    },
    {
      "cell_type": "code",
      "metadata": {
        "id": "DPJZ9dx4E5yd"
      },
      "source": [
        "# Reading the two Datasets\n",
        "train = pd.read_csv(\"train.csv\") \n",
        "test = pd.read_csv(\"test.csv\")"
      ],
      "execution_count": 932,
      "outputs": []
    },
    {
      "cell_type": "code",
      "metadata": {
        "colab": {
          "base_uri": "https://localhost:8080/",
          "height": 229
        },
        "id": "VKsTh0NvzgBu",
        "outputId": "1bedf8de-d2b8-41c3-beb1-adca26a8b85b"
      },
      "source": [
        "train.head()"
      ],
      "execution_count": 933,
      "outputs": [
        {
          "output_type": "execute_result",
          "data": {
            "text/html": [
              "<div>\n",
              "<style scoped>\n",
              "    .dataframe tbody tr th:only-of-type {\n",
              "        vertical-align: middle;\n",
              "    }\n",
              "\n",
              "    .dataframe tbody tr th {\n",
              "        vertical-align: top;\n",
              "    }\n",
              "\n",
              "    .dataframe thead th {\n",
              "        text-align: right;\n",
              "    }\n",
              "</style>\n",
              "<table border=\"1\" class=\"dataframe\">\n",
              "  <thead>\n",
              "    <tr style=\"text-align: right;\">\n",
              "      <th></th>\n",
              "      <th>PassengerId</th>\n",
              "      <th>Survived</th>\n",
              "      <th>Pclass</th>\n",
              "      <th>Name</th>\n",
              "      <th>Sex</th>\n",
              "      <th>Age</th>\n",
              "      <th>SibSp</th>\n",
              "      <th>Parch</th>\n",
              "      <th>Ticket</th>\n",
              "      <th>Fare</th>\n",
              "      <th>Cabin</th>\n",
              "      <th>Embarked</th>\n",
              "    </tr>\n",
              "  </thead>\n",
              "  <tbody>\n",
              "    <tr>\n",
              "      <th>0</th>\n",
              "      <td>1</td>\n",
              "      <td>0</td>\n",
              "      <td>3</td>\n",
              "      <td>Braund, Mr. Owen Harris</td>\n",
              "      <td>male</td>\n",
              "      <td>22.0</td>\n",
              "      <td>1</td>\n",
              "      <td>0</td>\n",
              "      <td>A/5 21171</td>\n",
              "      <td>7.2500</td>\n",
              "      <td>NaN</td>\n",
              "      <td>S</td>\n",
              "    </tr>\n",
              "    <tr>\n",
              "      <th>1</th>\n",
              "      <td>2</td>\n",
              "      <td>1</td>\n",
              "      <td>1</td>\n",
              "      <td>Cumings, Mrs. John Bradley (Florence Briggs Th...</td>\n",
              "      <td>female</td>\n",
              "      <td>38.0</td>\n",
              "      <td>1</td>\n",
              "      <td>0</td>\n",
              "      <td>PC 17599</td>\n",
              "      <td>71.2833</td>\n",
              "      <td>C85</td>\n",
              "      <td>C</td>\n",
              "    </tr>\n",
              "    <tr>\n",
              "      <th>2</th>\n",
              "      <td>3</td>\n",
              "      <td>1</td>\n",
              "      <td>3</td>\n",
              "      <td>Heikkinen, Miss. Laina</td>\n",
              "      <td>female</td>\n",
              "      <td>26.0</td>\n",
              "      <td>0</td>\n",
              "      <td>0</td>\n",
              "      <td>STON/O2. 3101282</td>\n",
              "      <td>7.9250</td>\n",
              "      <td>NaN</td>\n",
              "      <td>S</td>\n",
              "    </tr>\n",
              "    <tr>\n",
              "      <th>3</th>\n",
              "      <td>4</td>\n",
              "      <td>1</td>\n",
              "      <td>1</td>\n",
              "      <td>Futrelle, Mrs. Jacques Heath (Lily May Peel)</td>\n",
              "      <td>female</td>\n",
              "      <td>35.0</td>\n",
              "      <td>1</td>\n",
              "      <td>0</td>\n",
              "      <td>113803</td>\n",
              "      <td>53.1000</td>\n",
              "      <td>C123</td>\n",
              "      <td>S</td>\n",
              "    </tr>\n",
              "    <tr>\n",
              "      <th>4</th>\n",
              "      <td>5</td>\n",
              "      <td>0</td>\n",
              "      <td>3</td>\n",
              "      <td>Allen, Mr. William Henry</td>\n",
              "      <td>male</td>\n",
              "      <td>35.0</td>\n",
              "      <td>0</td>\n",
              "      <td>0</td>\n",
              "      <td>373450</td>\n",
              "      <td>8.0500</td>\n",
              "      <td>NaN</td>\n",
              "      <td>S</td>\n",
              "    </tr>\n",
              "  </tbody>\n",
              "</table>\n",
              "</div>"
            ],
            "text/plain": [
              "   PassengerId  Survived  Pclass  ...     Fare Cabin  Embarked\n",
              "0            1         0       3  ...   7.2500   NaN         S\n",
              "1            2         1       1  ...  71.2833   C85         C\n",
              "2            3         1       3  ...   7.9250   NaN         S\n",
              "3            4         1       1  ...  53.1000  C123         S\n",
              "4            5         0       3  ...   8.0500   NaN         S\n",
              "\n",
              "[5 rows x 12 columns]"
            ]
          },
          "metadata": {
            "tags": []
          },
          "execution_count": 933
        }
      ]
    },
    {
      "cell_type": "code",
      "metadata": {
        "colab": {
          "base_uri": "https://localhost:8080/",
          "height": 195
        },
        "id": "7imuLx5xzzQt",
        "outputId": "bf95be43-0776-4bf9-cf98-d95d75ccffae"
      },
      "source": [
        "test.head()"
      ],
      "execution_count": 934,
      "outputs": [
        {
          "output_type": "execute_result",
          "data": {
            "text/html": [
              "<div>\n",
              "<style scoped>\n",
              "    .dataframe tbody tr th:only-of-type {\n",
              "        vertical-align: middle;\n",
              "    }\n",
              "\n",
              "    .dataframe tbody tr th {\n",
              "        vertical-align: top;\n",
              "    }\n",
              "\n",
              "    .dataframe thead th {\n",
              "        text-align: right;\n",
              "    }\n",
              "</style>\n",
              "<table border=\"1\" class=\"dataframe\">\n",
              "  <thead>\n",
              "    <tr style=\"text-align: right;\">\n",
              "      <th></th>\n",
              "      <th>PassengerId</th>\n",
              "      <th>Pclass</th>\n",
              "      <th>Name</th>\n",
              "      <th>Sex</th>\n",
              "      <th>Age</th>\n",
              "      <th>SibSp</th>\n",
              "      <th>Parch</th>\n",
              "      <th>Ticket</th>\n",
              "      <th>Fare</th>\n",
              "      <th>Cabin</th>\n",
              "      <th>Embarked</th>\n",
              "    </tr>\n",
              "  </thead>\n",
              "  <tbody>\n",
              "    <tr>\n",
              "      <th>0</th>\n",
              "      <td>892</td>\n",
              "      <td>3</td>\n",
              "      <td>Kelly, Mr. James</td>\n",
              "      <td>male</td>\n",
              "      <td>34.5</td>\n",
              "      <td>0</td>\n",
              "      <td>0</td>\n",
              "      <td>330911</td>\n",
              "      <td>7.8292</td>\n",
              "      <td>NaN</td>\n",
              "      <td>Q</td>\n",
              "    </tr>\n",
              "    <tr>\n",
              "      <th>1</th>\n",
              "      <td>893</td>\n",
              "      <td>3</td>\n",
              "      <td>Wilkes, Mrs. James (Ellen Needs)</td>\n",
              "      <td>female</td>\n",
              "      <td>47.0</td>\n",
              "      <td>1</td>\n",
              "      <td>0</td>\n",
              "      <td>363272</td>\n",
              "      <td>7.0000</td>\n",
              "      <td>NaN</td>\n",
              "      <td>S</td>\n",
              "    </tr>\n",
              "    <tr>\n",
              "      <th>2</th>\n",
              "      <td>894</td>\n",
              "      <td>2</td>\n",
              "      <td>Myles, Mr. Thomas Francis</td>\n",
              "      <td>male</td>\n",
              "      <td>62.0</td>\n",
              "      <td>0</td>\n",
              "      <td>0</td>\n",
              "      <td>240276</td>\n",
              "      <td>9.6875</td>\n",
              "      <td>NaN</td>\n",
              "      <td>Q</td>\n",
              "    </tr>\n",
              "    <tr>\n",
              "      <th>3</th>\n",
              "      <td>895</td>\n",
              "      <td>3</td>\n",
              "      <td>Wirz, Mr. Albert</td>\n",
              "      <td>male</td>\n",
              "      <td>27.0</td>\n",
              "      <td>0</td>\n",
              "      <td>0</td>\n",
              "      <td>315154</td>\n",
              "      <td>8.6625</td>\n",
              "      <td>NaN</td>\n",
              "      <td>S</td>\n",
              "    </tr>\n",
              "    <tr>\n",
              "      <th>4</th>\n",
              "      <td>896</td>\n",
              "      <td>3</td>\n",
              "      <td>Hirvonen, Mrs. Alexander (Helga E Lindqvist)</td>\n",
              "      <td>female</td>\n",
              "      <td>22.0</td>\n",
              "      <td>1</td>\n",
              "      <td>1</td>\n",
              "      <td>3101298</td>\n",
              "      <td>12.2875</td>\n",
              "      <td>NaN</td>\n",
              "      <td>S</td>\n",
              "    </tr>\n",
              "  </tbody>\n",
              "</table>\n",
              "</div>"
            ],
            "text/plain": [
              "   PassengerId  Pclass  ... Cabin Embarked\n",
              "0          892       3  ...   NaN        Q\n",
              "1          893       3  ...   NaN        S\n",
              "2          894       2  ...   NaN        Q\n",
              "3          895       3  ...   NaN        S\n",
              "4          896       3  ...   NaN        S\n",
              "\n",
              "[5 rows x 11 columns]"
            ]
          },
          "metadata": {
            "tags": []
          },
          "execution_count": 934
        }
      ]
    },
    {
      "cell_type": "code",
      "metadata": {
        "colab": {
          "base_uri": "https://localhost:8080/"
        },
        "id": "6B5eCWOyzqkK",
        "outputId": "5e2ad7cc-8deb-457b-fe8c-8be44f5eab4d"
      },
      "source": [
        "train.info()"
      ],
      "execution_count": 935,
      "outputs": [
        {
          "output_type": "stream",
          "text": [
            "<class 'pandas.core.frame.DataFrame'>\n",
            "RangeIndex: 891 entries, 0 to 890\n",
            "Data columns (total 12 columns):\n",
            " #   Column       Non-Null Count  Dtype  \n",
            "---  ------       --------------  -----  \n",
            " 0   PassengerId  891 non-null    int64  \n",
            " 1   Survived     891 non-null    int64  \n",
            " 2   Pclass       891 non-null    int64  \n",
            " 3   Name         891 non-null    object \n",
            " 4   Sex          891 non-null    object \n",
            " 5   Age          714 non-null    float64\n",
            " 6   SibSp        891 non-null    int64  \n",
            " 7   Parch        891 non-null    int64  \n",
            " 8   Ticket       891 non-null    object \n",
            " 9   Fare         891 non-null    float64\n",
            " 10  Cabin        204 non-null    object \n",
            " 11  Embarked     889 non-null    object \n",
            "dtypes: float64(2), int64(5), object(5)\n",
            "memory usage: 83.7+ KB\n"
          ],
          "name": "stdout"
        }
      ]
    },
    {
      "cell_type": "code",
      "metadata": {
        "colab": {
          "base_uri": "https://localhost:8080/"
        },
        "id": "TkOOaXsAzh-e",
        "outputId": "45115d3a-d467-4eaa-f54a-ac0bb4817b91"
      },
      "source": [
        "train.isnull().sum()"
      ],
      "execution_count": 936,
      "outputs": [
        {
          "output_type": "execute_result",
          "data": {
            "text/plain": [
              "PassengerId      0\n",
              "Survived         0\n",
              "Pclass           0\n",
              "Name             0\n",
              "Sex              0\n",
              "Age            177\n",
              "SibSp            0\n",
              "Parch            0\n",
              "Ticket           0\n",
              "Fare             0\n",
              "Cabin          687\n",
              "Embarked         2\n",
              "dtype: int64"
            ]
          },
          "metadata": {
            "tags": []
          },
          "execution_count": 936
        }
      ]
    },
    {
      "cell_type": "code",
      "metadata": {
        "colab": {
          "base_uri": "https://localhost:8080/"
        },
        "id": "any1_YPKCmIs",
        "outputId": "42e43b06-69c6-413e-8e49-a3fcaee9c184"
      },
      "source": [
        "test.isnull().sum()"
      ],
      "execution_count": 937,
      "outputs": [
        {
          "output_type": "execute_result",
          "data": {
            "text/plain": [
              "PassengerId      0\n",
              "Pclass           0\n",
              "Name             0\n",
              "Sex              0\n",
              "Age             86\n",
              "SibSp            0\n",
              "Parch            0\n",
              "Ticket           0\n",
              "Fare             1\n",
              "Cabin          327\n",
              "Embarked         0\n",
              "dtype: int64"
            ]
          },
          "metadata": {
            "tags": []
          },
          "execution_count": 937
        }
      ]
    },
    {
      "cell_type": "markdown",
      "metadata": {
        "id": "DmMmfr6FmUOD"
      },
      "source": [
        "### Cleaning the Datasets"
      ]
    },
    {
      "cell_type": "code",
      "metadata": {
        "id": "aWK7uGq00T_3"
      },
      "source": [
        "# Fix the missing data\n",
        "\n",
        "a = train[\"Embarked\"].mode()[0] # we fill the 2 null values from the Embarked column in the train dataset using the mode of the column\n",
        "f = test[\"Fare\"].mean() # we fill the 1 null value from the Fare column in the test dataset using the mean of the column\n",
        "\n",
        "m = train['Age'].mean() # we fill the 86 null values from the Age column in the test dataset using the mode of the column\n",
        "train['Age'].fillna(m,inplace=True)\n",
        "# drop cabin as the missing rate for this column nearly 40% and the other 2 columns as they will not be needed\n",
        "train.drop([\"Cabin\",\"Name\",\"Ticket\"],inplace=True,axis=1) \n",
        "train[\"Embarked\"].fillna(a,inplace=True)\n",
        "\n",
        "\n",
        "m1 = test['Age'].mean()\n",
        "test['Age'].fillna(m1,inplace=True)\n",
        "test.drop([\"Cabin\",\"Name\",\"Ticket\"],inplace=True,axis=1)\n",
        "test[\"Embarked\"].fillna(a,inplace=True)\n",
        "test[\"Fare\"].fillna(f,inplace=True)"
      ],
      "execution_count": 938,
      "outputs": []
    },
    {
      "cell_type": "code",
      "metadata": {
        "colab": {
          "base_uri": "https://localhost:8080/"
        },
        "id": "ayVc5QxA00ae",
        "outputId": "9bbbd42f-c13f-4448-e299-d8cbe676143b"
      },
      "source": [
        "train.isna().sum()"
      ],
      "execution_count": 939,
      "outputs": [
        {
          "output_type": "execute_result",
          "data": {
            "text/plain": [
              "PassengerId    0\n",
              "Survived       0\n",
              "Pclass         0\n",
              "Sex            0\n",
              "Age            0\n",
              "SibSp          0\n",
              "Parch          0\n",
              "Fare           0\n",
              "Embarked       0\n",
              "dtype: int64"
            ]
          },
          "metadata": {
            "tags": []
          },
          "execution_count": 939
        }
      ]
    },
    {
      "cell_type": "code",
      "metadata": {
        "colab": {
          "base_uri": "https://localhost:8080/"
        },
        "id": "yN6fl_Phg4AM",
        "outputId": "02cefa05-00e5-47fd-dc11-a640e095fd6c"
      },
      "source": [
        "test.isnull().sum()"
      ],
      "execution_count": 940,
      "outputs": [
        {
          "output_type": "execute_result",
          "data": {
            "text/plain": [
              "PassengerId    0\n",
              "Pclass         0\n",
              "Sex            0\n",
              "Age            0\n",
              "SibSp          0\n",
              "Parch          0\n",
              "Fare           0\n",
              "Embarked       0\n",
              "dtype: int64"
            ]
          },
          "metadata": {
            "tags": []
          },
          "execution_count": 940
        }
      ]
    },
    {
      "cell_type": "code",
      "metadata": {
        "colab": {
          "base_uri": "https://localhost:8080/",
          "height": 284
        },
        "id": "NzYU291L0vie",
        "outputId": "97ac922e-f84d-454a-d747-69a7f5784505"
      },
      "source": [
        "train.describe()"
      ],
      "execution_count": 941,
      "outputs": [
        {
          "output_type": "execute_result",
          "data": {
            "text/html": [
              "<div>\n",
              "<style scoped>\n",
              "    .dataframe tbody tr th:only-of-type {\n",
              "        vertical-align: middle;\n",
              "    }\n",
              "\n",
              "    .dataframe tbody tr th {\n",
              "        vertical-align: top;\n",
              "    }\n",
              "\n",
              "    .dataframe thead th {\n",
              "        text-align: right;\n",
              "    }\n",
              "</style>\n",
              "<table border=\"1\" class=\"dataframe\">\n",
              "  <thead>\n",
              "    <tr style=\"text-align: right;\">\n",
              "      <th></th>\n",
              "      <th>PassengerId</th>\n",
              "      <th>Survived</th>\n",
              "      <th>Pclass</th>\n",
              "      <th>Age</th>\n",
              "      <th>SibSp</th>\n",
              "      <th>Parch</th>\n",
              "      <th>Fare</th>\n",
              "    </tr>\n",
              "  </thead>\n",
              "  <tbody>\n",
              "    <tr>\n",
              "      <th>count</th>\n",
              "      <td>891.000000</td>\n",
              "      <td>891.000000</td>\n",
              "      <td>891.000000</td>\n",
              "      <td>891.000000</td>\n",
              "      <td>891.000000</td>\n",
              "      <td>891.000000</td>\n",
              "      <td>891.000000</td>\n",
              "    </tr>\n",
              "    <tr>\n",
              "      <th>mean</th>\n",
              "      <td>446.000000</td>\n",
              "      <td>0.383838</td>\n",
              "      <td>2.308642</td>\n",
              "      <td>29.699118</td>\n",
              "      <td>0.523008</td>\n",
              "      <td>0.381594</td>\n",
              "      <td>32.204208</td>\n",
              "    </tr>\n",
              "    <tr>\n",
              "      <th>std</th>\n",
              "      <td>257.353842</td>\n",
              "      <td>0.486592</td>\n",
              "      <td>0.836071</td>\n",
              "      <td>13.002015</td>\n",
              "      <td>1.102743</td>\n",
              "      <td>0.806057</td>\n",
              "      <td>49.693429</td>\n",
              "    </tr>\n",
              "    <tr>\n",
              "      <th>min</th>\n",
              "      <td>1.000000</td>\n",
              "      <td>0.000000</td>\n",
              "      <td>1.000000</td>\n",
              "      <td>0.420000</td>\n",
              "      <td>0.000000</td>\n",
              "      <td>0.000000</td>\n",
              "      <td>0.000000</td>\n",
              "    </tr>\n",
              "    <tr>\n",
              "      <th>25%</th>\n",
              "      <td>223.500000</td>\n",
              "      <td>0.000000</td>\n",
              "      <td>2.000000</td>\n",
              "      <td>22.000000</td>\n",
              "      <td>0.000000</td>\n",
              "      <td>0.000000</td>\n",
              "      <td>7.910400</td>\n",
              "    </tr>\n",
              "    <tr>\n",
              "      <th>50%</th>\n",
              "      <td>446.000000</td>\n",
              "      <td>0.000000</td>\n",
              "      <td>3.000000</td>\n",
              "      <td>29.699118</td>\n",
              "      <td>0.000000</td>\n",
              "      <td>0.000000</td>\n",
              "      <td>14.454200</td>\n",
              "    </tr>\n",
              "    <tr>\n",
              "      <th>75%</th>\n",
              "      <td>668.500000</td>\n",
              "      <td>1.000000</td>\n",
              "      <td>3.000000</td>\n",
              "      <td>35.000000</td>\n",
              "      <td>1.000000</td>\n",
              "      <td>0.000000</td>\n",
              "      <td>31.000000</td>\n",
              "    </tr>\n",
              "    <tr>\n",
              "      <th>max</th>\n",
              "      <td>891.000000</td>\n",
              "      <td>1.000000</td>\n",
              "      <td>3.000000</td>\n",
              "      <td>80.000000</td>\n",
              "      <td>8.000000</td>\n",
              "      <td>6.000000</td>\n",
              "      <td>512.329200</td>\n",
              "    </tr>\n",
              "  </tbody>\n",
              "</table>\n",
              "</div>"
            ],
            "text/plain": [
              "       PassengerId    Survived      Pclass  ...       SibSp       Parch        Fare\n",
              "count   891.000000  891.000000  891.000000  ...  891.000000  891.000000  891.000000\n",
              "mean    446.000000    0.383838    2.308642  ...    0.523008    0.381594   32.204208\n",
              "std     257.353842    0.486592    0.836071  ...    1.102743    0.806057   49.693429\n",
              "min       1.000000    0.000000    1.000000  ...    0.000000    0.000000    0.000000\n",
              "25%     223.500000    0.000000    2.000000  ...    0.000000    0.000000    7.910400\n",
              "50%     446.000000    0.000000    3.000000  ...    0.000000    0.000000   14.454200\n",
              "75%     668.500000    1.000000    3.000000  ...    1.000000    0.000000   31.000000\n",
              "max     891.000000    1.000000    3.000000  ...    8.000000    6.000000  512.329200\n",
              "\n",
              "[8 rows x 7 columns]"
            ]
          },
          "metadata": {
            "tags": []
          },
          "execution_count": 941
        }
      ]
    },
    {
      "cell_type": "code",
      "metadata": {
        "colab": {
          "base_uri": "https://localhost:8080/"
        },
        "id": "ZXVTpAHK1b38",
        "outputId": "05f15842-9ea7-4115-b15b-e06ebb4744ac"
      },
      "source": [
        "train.shape"
      ],
      "execution_count": 942,
      "outputs": [
        {
          "output_type": "execute_result",
          "data": {
            "text/plain": [
              "(891, 9)"
            ]
          },
          "metadata": {
            "tags": []
          },
          "execution_count": 942
        }
      ]
    },
    {
      "cell_type": "code",
      "metadata": {
        "colab": {
          "base_uri": "https://localhost:8080/"
        },
        "id": "-GJu8Hc3fd5Z",
        "outputId": "00a3c374-dc37-48f7-8af0-761ef898aae4"
      },
      "source": [
        "test.shape"
      ],
      "execution_count": 943,
      "outputs": [
        {
          "output_type": "execute_result",
          "data": {
            "text/plain": [
              "(418, 8)"
            ]
          },
          "metadata": {
            "tags": []
          },
          "execution_count": 943
        }
      ]
    },
    {
      "cell_type": "code",
      "metadata": {
        "colab": {
          "base_uri": "https://localhost:8080/"
        },
        "id": "7ytEja984pMz",
        "outputId": "2db8dc1e-16fe-464e-9a65-5fccc2ee001a"
      },
      "source": [
        "train.nunique()"
      ],
      "execution_count": 944,
      "outputs": [
        {
          "output_type": "execute_result",
          "data": {
            "text/plain": [
              "PassengerId    891\n",
              "Survived         2\n",
              "Pclass           3\n",
              "Sex              2\n",
              "Age             89\n",
              "SibSp            7\n",
              "Parch            7\n",
              "Fare           248\n",
              "Embarked         3\n",
              "dtype: int64"
            ]
          },
          "metadata": {
            "tags": []
          },
          "execution_count": 944
        }
      ]
    },
    {
      "cell_type": "markdown",
      "metadata": {
        "id": "LkQK_zjF_V6y"
      },
      "source": [
        "### Visualization"
      ]
    },
    {
      "cell_type": "markdown",
      "metadata": {
        "id": "gDaYCkT3nN78"
      },
      "source": [
        "The below graph tells us that during the Titanic incident only 38.5 % percent of people survived, that is, little over every 1 in 3 persons surviving the incident."
      ]
    },
    {
      "cell_type": "code",
      "metadata": {
        "colab": {
          "base_uri": "https://localhost:8080/",
          "height": 279
        },
        "id": "u9Vr6l7spZ5n",
        "outputId": "c75d57f0-1295-412a-9be9-1e418b87dca2"
      },
      "source": [
        "fig = plt.figure(figsize=(6,4))\n",
        "ax = sns.countplot(data = train,x=\"Survived\", palette=\"Set2\")\n",
        "\n",
        "total = 889\n",
        "\n",
        "for p,label in zip(ax.patches,l1):\n",
        "  percentage = '{:.1f}%'.format(100 * p.get_height()/total)\n",
        "  x = p.get_x() + p.get_width() - 0.48\n",
        "  y = p.get_y() + p.get_height()\n",
        "  ax.annotate(percentage,(x,y))"
      ],
      "execution_count": 945,
      "outputs": [
        {
          "output_type": "display_data",
          "data": {
            "image/png": "[encoded data removed]",
            "text/plain": [
              "<Figure size 432x288 with 1 Axes>"
            ]
          },
          "metadata": {
            "tags": [],
            "needs_background": "light"
          }
        }
      ]
    },
    {
      "cell_type": "markdown",
      "metadata": {
        "id": "tGsQBPUxngZO"
      },
      "source": [
        "Here we get to know that most of the passengers were male on the titanic."
      ]
    },
    {
      "cell_type": "code",
      "metadata": {
        "colab": {
          "base_uri": "https://localhost:8080/",
          "height": 279
        },
        "id": "yWy30mpB8Qh_",
        "outputId": "896dc8bf-fd22-4d3e-c0f4-aeb00170c7b0"
      },
      "source": [
        "fig = plt.figure(figsize=(6,4))\n",
        "ax = sns.countplot(data = train,y=\"Sex\", palette=\"Set3\")\n",
        "\n",
        "total = 889\n",
        "\n",
        "for p,label in zip(ax.patches,l1):\n",
        "  percentage = '{:.1f}%'.format(100 * p.get_width()/total)\n",
        "  x = p.get_x() + p.get_width() + 0.5\n",
        "  y = p.get_y() + p.get_height()/2 \n",
        "  ax.annotate(percentage,(x,y))"
      ],
      "execution_count": 946,
      "outputs": [
        {
          "output_type": "display_data",
          "data": {
            "image/png": "[encoded data removed]",
            "text/plain": [
              "<Figure size 432x288 with 1 Axes>"
            ]
          },
          "metadata": {
            "tags": [],
            "needs_background": "light"
          }
        }
      ]
    },
    {
      "cell_type": "markdown",
      "metadata": {
        "id": "SCFC1LjqnrXf"
      },
      "source": [
        "From the below histograms we can analyse that-\n",
        "\n",
        "*   Most of the people who did not survive were from the 3rd ticket class and were between the age of 24-30.\n",
        "*   Most of the people who survived were from the 1st ticket class and were between the age of 25-31.\n"
      ]
    },
    {
      "cell_type": "code",
      "metadata": {
        "id": "nPv5yTaQ_cyG",
        "colab": {
          "base_uri": "https://localhost:8080/",
          "height": 1000
        },
        "outputId": "5ddd1324-bbe8-4f18-f5fc-f85c15424960"
      },
      "source": [
        "train.groupby('Survived').hist(figsize=(18, 18))"
      ],
      "execution_count": 947,
      "outputs": [
        {
          "output_type": "execute_result",
          "data": {
            "text/plain": [
              "Survived\n",
              "0    [[AxesSubplot(0.125,0.670278;0.336957x0.209722...\n",
              "1    [[AxesSubplot(0.125,0.670278;0.336957x0.209722...\n",
              "dtype: object"
            ]
          },
          "metadata": {
            "tags": []
          },
          "execution_count": 947
        },
        {
          "output_type": "display_data",
          "data": {
            "image/png": "[encoded data removed]",
            "text/plain": [
              "<Figure size 1296x1296 with 6 Axes>"
            ]
          },
          "metadata": {
            "tags": [],
            "needs_background": "light"
          }
        },
        {
          "output_type": "display_data",
          "data": {
            "image/png": "[encoded data removed]",
            "text/plain": [
              "<Figure size 1296x1296 with 6 Axes>"
            ]
          },
          "metadata": {
            "tags": [],
            "needs_background": "light"
          }
        }
      ]
    },
    {
      "cell_type": "markdown",
      "metadata": {
        "id": "LsG_OW3iqvPv"
      },
      "source": [
        "Here we see the mean survive rate depending on fare,class,age and embarkment."
      ]
    },
    {
      "cell_type": "code",
      "metadata": {
        "colab": {
          "base_uri": "https://localhost:8080/",
          "height": 195
        },
        "id": "L4LO9yqn5iYH",
        "outputId": "0aed33b3-b7b3-42c8-d4db-aa94dc8d82f2"
      },
      "source": [
        "train['FareGrouping'] = pd.qcut(train['Fare'], 5)\n",
        "train[[\"FareGrouping\",\"Survived\"]].groupby(['FareGrouping'],as_index=False).mean().sort_values(by=\"FareGrouping\")"
      ],
      "execution_count": 948,
      "outputs": [
        {
          "output_type": "execute_result",
          "data": {
            "text/html": [
              "<div>\n",
              "<style scoped>\n",
              "    .dataframe tbody tr th:only-of-type {\n",
              "        vertical-align: middle;\n",
              "    }\n",
              "\n",
              "    .dataframe tbody tr th {\n",
              "        vertical-align: top;\n",
              "    }\n",
              "\n",
              "    .dataframe thead th {\n",
              "        text-align: right;\n",
              "    }\n",
              "</style>\n",
              "<table border=\"1\" class=\"dataframe\">\n",
              "  <thead>\n",
              "    <tr style=\"text-align: right;\">\n",
              "      <th></th>\n",
              "      <th>FareGrouping</th>\n",
              "      <th>Survived</th>\n",
              "    </tr>\n",
              "  </thead>\n",
              "  <tbody>\n",
              "    <tr>\n",
              "      <th>0</th>\n",
              "      <td>(-0.001, 7.854]</td>\n",
              "      <td>0.217877</td>\n",
              "    </tr>\n",
              "    <tr>\n",
              "      <th>1</th>\n",
              "      <td>(7.854, 10.5]</td>\n",
              "      <td>0.201087</td>\n",
              "    </tr>\n",
              "    <tr>\n",
              "      <th>2</th>\n",
              "      <td>(10.5, 21.679]</td>\n",
              "      <td>0.424419</td>\n",
              "    </tr>\n",
              "    <tr>\n",
              "      <th>3</th>\n",
              "      <td>(21.679, 39.688]</td>\n",
              "      <td>0.444444</td>\n",
              "    </tr>\n",
              "    <tr>\n",
              "      <th>4</th>\n",
              "      <td>(39.688, 512.329]</td>\n",
              "      <td>0.642045</td>\n",
              "    </tr>\n",
              "  </tbody>\n",
              "</table>\n",
              "</div>"
            ],
            "text/plain": [
              "        FareGrouping  Survived\n",
              "0    (-0.001, 7.854]  0.217877\n",
              "1      (7.854, 10.5]  0.201087\n",
              "2     (10.5, 21.679]  0.424419\n",
              "3   (21.679, 39.688]  0.444444\n",
              "4  (39.688, 512.329]  0.642045"
            ]
          },
          "metadata": {
            "tags": []
          },
          "execution_count": 948
        }
      ]
    },
    {
      "cell_type": "code",
      "metadata": {
        "colab": {
          "base_uri": "https://localhost:8080/",
          "height": 136
        },
        "id": "2zSshuQK6jTv",
        "outputId": "ebeda7a7-53f9-4d7b-9a29-16fe7771f79f"
      },
      "source": [
        "train[[\"Pclass\",\"Survived\"]].groupby(['Pclass'],as_index=False).mean().sort_values(by=\"Pclass\")"
      ],
      "execution_count": 949,
      "outputs": [
        {
          "output_type": "execute_result",
          "data": {
            "text/html": [
              "<div>\n",
              "<style scoped>\n",
              "    .dataframe tbody tr th:only-of-type {\n",
              "        vertical-align: middle;\n",
              "    }\n",
              "\n",
              "    .dataframe tbody tr th {\n",
              "        vertical-align: top;\n",
              "    }\n",
              "\n",
              "    .dataframe thead th {\n",
              "        text-align: right;\n",
              "    }\n",
              "</style>\n",
              "<table border=\"1\" class=\"dataframe\">\n",
              "  <thead>\n",
              "    <tr style=\"text-align: right;\">\n",
              "      <th></th>\n",
              "      <th>Pclass</th>\n",
              "      <th>Survived</th>\n",
              "    </tr>\n",
              "  </thead>\n",
              "  <tbody>\n",
              "    <tr>\n",
              "      <th>0</th>\n",
              "      <td>1</td>\n",
              "      <td>0.629630</td>\n",
              "    </tr>\n",
              "    <tr>\n",
              "      <th>1</th>\n",
              "      <td>2</td>\n",
              "      <td>0.472826</td>\n",
              "    </tr>\n",
              "    <tr>\n",
              "      <th>2</th>\n",
              "      <td>3</td>\n",
              "      <td>0.242363</td>\n",
              "    </tr>\n",
              "  </tbody>\n",
              "</table>\n",
              "</div>"
            ],
            "text/plain": [
              "   Pclass  Survived\n",
              "0       1  0.629630\n",
              "1       2  0.472826\n",
              "2       3  0.242363"
            ]
          },
          "metadata": {
            "tags": []
          },
          "execution_count": 949
        }
      ]
    },
    {
      "cell_type": "code",
      "metadata": {
        "colab": {
          "base_uri": "https://localhost:8080/",
          "height": 195
        },
        "id": "PtwWFXe07KBA",
        "outputId": "3050c7a7-db06-48c9-81ce-b2741ab9a771"
      },
      "source": [
        "train['AgeGrouping'] = pd.qcut(train['Age'], 5)\n",
        "train[[\"AgeGrouping\",\"Survived\"]].groupby(['AgeGrouping'],as_index=False).mean().sort_values(by=\"AgeGrouping\")"
      ],
      "execution_count": 950,
      "outputs": [
        {
          "output_type": "execute_result",
          "data": {
            "text/html": [
              "<div>\n",
              "<style scoped>\n",
              "    .dataframe tbody tr th:only-of-type {\n",
              "        vertical-align: middle;\n",
              "    }\n",
              "\n",
              "    .dataframe tbody tr th {\n",
              "        vertical-align: top;\n",
              "    }\n",
              "\n",
              "    .dataframe thead th {\n",
              "        text-align: right;\n",
              "    }\n",
              "</style>\n",
              "<table border=\"1\" class=\"dataframe\">\n",
              "  <thead>\n",
              "    <tr style=\"text-align: right;\">\n",
              "      <th></th>\n",
              "      <th>AgeGrouping</th>\n",
              "      <th>Survived</th>\n",
              "    </tr>\n",
              "  </thead>\n",
              "  <tbody>\n",
              "    <tr>\n",
              "      <th>0</th>\n",
              "      <td>(0.419, 20.0]</td>\n",
              "      <td>0.458101</td>\n",
              "    </tr>\n",
              "    <tr>\n",
              "      <th>1</th>\n",
              "      <td>(20.0, 28.0]</td>\n",
              "      <td>0.360656</td>\n",
              "    </tr>\n",
              "    <tr>\n",
              "      <th>2</th>\n",
              "      <td>(28.0, 29.699]</td>\n",
              "      <td>0.301508</td>\n",
              "    </tr>\n",
              "    <tr>\n",
              "      <th>3</th>\n",
              "      <td>(29.699, 38.0]</td>\n",
              "      <td>0.444444</td>\n",
              "    </tr>\n",
              "    <tr>\n",
              "      <th>4</th>\n",
              "      <td>(38.0, 80.0]</td>\n",
              "      <td>0.372881</td>\n",
              "    </tr>\n",
              "  </tbody>\n",
              "</table>\n",
              "</div>"
            ],
            "text/plain": [
              "      AgeGrouping  Survived\n",
              "0   (0.419, 20.0]  0.458101\n",
              "1    (20.0, 28.0]  0.360656\n",
              "2  (28.0, 29.699]  0.301508\n",
              "3  (29.699, 38.0]  0.444444\n",
              "4    (38.0, 80.0]  0.372881"
            ]
          },
          "metadata": {
            "tags": []
          },
          "execution_count": 950
        }
      ]
    },
    {
      "cell_type": "code",
      "metadata": {
        "colab": {
          "base_uri": "https://localhost:8080/",
          "height": 136
        },
        "id": "jJJhDuiW9yEL",
        "outputId": "202bad9d-c659-4282-c435-01fc87e3692d"
      },
      "source": [
        "train[[\"Embarked\",\"Survived\"]].groupby(['Embarked'],as_index=False).mean().sort_values(by=\"Embarked\")"
      ],
      "execution_count": 951,
      "outputs": [
        {
          "output_type": "execute_result",
          "data": {
            "text/html": [
              "<div>\n",
              "<style scoped>\n",
              "    .dataframe tbody tr th:only-of-type {\n",
              "        vertical-align: middle;\n",
              "    }\n",
              "\n",
              "    .dataframe tbody tr th {\n",
              "        vertical-align: top;\n",
              "    }\n",
              "\n",
              "    .dataframe thead th {\n",
              "        text-align: right;\n",
              "    }\n",
              "</style>\n",
              "<table border=\"1\" class=\"dataframe\">\n",
              "  <thead>\n",
              "    <tr style=\"text-align: right;\">\n",
              "      <th></th>\n",
              "      <th>Embarked</th>\n",
              "      <th>Survived</th>\n",
              "    </tr>\n",
              "  </thead>\n",
              "  <tbody>\n",
              "    <tr>\n",
              "      <th>0</th>\n",
              "      <td>C</td>\n",
              "      <td>0.553571</td>\n",
              "    </tr>\n",
              "    <tr>\n",
              "      <th>1</th>\n",
              "      <td>Q</td>\n",
              "      <td>0.389610</td>\n",
              "    </tr>\n",
              "    <tr>\n",
              "      <th>2</th>\n",
              "      <td>S</td>\n",
              "      <td>0.339009</td>\n",
              "    </tr>\n",
              "  </tbody>\n",
              "</table>\n",
              "</div>"
            ],
            "text/plain": [
              "  Embarked  Survived\n",
              "0        C  0.553571\n",
              "1        Q  0.389610\n",
              "2        S  0.339009"
            ]
          },
          "metadata": {
            "tags": []
          },
          "execution_count": 951
        }
      ]
    },
    {
      "cell_type": "code",
      "metadata": {
        "id": "FTV4X7YG_POc"
      },
      "source": [
        "train.drop([\"FareGrouping\",\"AgeGrouping\"],inplace=True,axis=1)"
      ],
      "execution_count": 952,
      "outputs": []
    },
    {
      "cell_type": "code",
      "metadata": {
        "colab": {
          "base_uri": "https://localhost:8080/"
        },
        "id": "OEhUQyLA_JPu",
        "outputId": "03c6c02f-4f1f-4e17-d929-13b0f5284d6d"
      },
      "source": [
        "train.shape"
      ],
      "execution_count": 953,
      "outputs": [
        {
          "output_type": "execute_result",
          "data": {
            "text/plain": [
              "(891, 9)"
            ]
          },
          "metadata": {
            "tags": []
          },
          "execution_count": 953
        }
      ]
    },
    {
      "cell_type": "markdown",
      "metadata": {
        "id": "GdTvGYIYrA8C"
      },
      "source": [
        "### Preprocessing"
      ]
    },
    {
      "cell_type": "markdown",
      "metadata": {
        "id": "fRYJqavDrDGe"
      },
      "source": [
        "Here we label encode both the sex column and the Embark column to convert these categorical columns into numerical columns"
      ]
    },
    {
      "cell_type": "code",
      "metadata": {
        "colab": {
          "base_uri": "https://localhost:8080/",
          "height": 195
        },
        "id": "cXtMR62X9dWa",
        "outputId": "e1013604-3133-4584-b909-8c9ebdf0ad1b"
      },
      "source": [
        "from sklearn.preprocessing import LabelEncoder\n",
        "le=LabelEncoder()\n",
        "train[\"Sex\"]=le.fit_transform(train[\"Sex\"])\n",
        "test[\"Sex\"] = le.fit_transform(test[\"Sex\"])\n",
        "train[\"Embarked\"]=le.fit_transform(train[\"Embarked\"])\n",
        "test[\"Embarked\"] = le.fit_transform(test[\"Embarked\"])\n",
        "train.head()"
      ],
      "execution_count": 954,
      "outputs": [
        {
          "output_type": "execute_result",
          "data": {
            "text/html": [
              "<div>\n",
              "<style scoped>\n",
              "    .dataframe tbody tr th:only-of-type {\n",
              "        vertical-align: middle;\n",
              "    }\n",
              "\n",
              "    .dataframe tbody tr th {\n",
              "        vertical-align: top;\n",
              "    }\n",
              "\n",
              "    .dataframe thead th {\n",
              "        text-align: right;\n",
              "    }\n",
              "</style>\n",
              "<table border=\"1\" class=\"dataframe\">\n",
              "  <thead>\n",
              "    <tr style=\"text-align: right;\">\n",
              "      <th></th>\n",
              "      <th>PassengerId</th>\n",
              "      <th>Survived</th>\n",
              "      <th>Pclass</th>\n",
              "      <th>Sex</th>\n",
              "      <th>Age</th>\n",
              "      <th>SibSp</th>\n",
              "      <th>Parch</th>\n",
              "      <th>Fare</th>\n",
              "      <th>Embarked</th>\n",
              "    </tr>\n",
              "  </thead>\n",
              "  <tbody>\n",
              "    <tr>\n",
              "      <th>0</th>\n",
              "      <td>1</td>\n",
              "      <td>0</td>\n",
              "      <td>3</td>\n",
              "      <td>1</td>\n",
              "      <td>22.0</td>\n",
              "      <td>1</td>\n",
              "      <td>0</td>\n",
              "      <td>7.2500</td>\n",
              "      <td>2</td>\n",
              "    </tr>\n",
              "    <tr>\n",
              "      <th>1</th>\n",
              "      <td>2</td>\n",
              "      <td>1</td>\n",
              "      <td>1</td>\n",
              "      <td>0</td>\n",
              "      <td>38.0</td>\n",
              "      <td>1</td>\n",
              "      <td>0</td>\n",
              "      <td>71.2833</td>\n",
              "      <td>0</td>\n",
              "    </tr>\n",
              "    <tr>\n",
              "      <th>2</th>\n",
              "      <td>3</td>\n",
              "      <td>1</td>\n",
              "      <td>3</td>\n",
              "      <td>0</td>\n",
              "      <td>26.0</td>\n",
              "      <td>0</td>\n",
              "      <td>0</td>\n",
              "      <td>7.9250</td>\n",
              "      <td>2</td>\n",
              "    </tr>\n",
              "    <tr>\n",
              "      <th>3</th>\n",
              "      <td>4</td>\n",
              "      <td>1</td>\n",
              "      <td>1</td>\n",
              "      <td>0</td>\n",
              "      <td>35.0</td>\n",
              "      <td>1</td>\n",
              "      <td>0</td>\n",
              "      <td>53.1000</td>\n",
              "      <td>2</td>\n",
              "    </tr>\n",
              "    <tr>\n",
              "      <th>4</th>\n",
              "      <td>5</td>\n",
              "      <td>0</td>\n",
              "      <td>3</td>\n",
              "      <td>1</td>\n",
              "      <td>35.0</td>\n",
              "      <td>0</td>\n",
              "      <td>0</td>\n",
              "      <td>8.0500</td>\n",
              "      <td>2</td>\n",
              "    </tr>\n",
              "  </tbody>\n",
              "</table>\n",
              "</div>"
            ],
            "text/plain": [
              "   PassengerId  Survived  Pclass  Sex   Age  SibSp  Parch     Fare  Embarked\n",
              "0            1         0       3    1  22.0      1      0   7.2500         2\n",
              "1            2         1       1    0  38.0      1      0  71.2833         0\n",
              "2            3         1       3    0  26.0      0      0   7.9250         2\n",
              "3            4         1       1    0  35.0      1      0  53.1000         2\n",
              "4            5         0       3    1  35.0      0      0   8.0500         2"
            ]
          },
          "metadata": {
            "tags": []
          },
          "execution_count": 954
        }
      ]
    },
    {
      "cell_type": "code",
      "metadata": {
        "colab": {
          "base_uri": "https://localhost:8080/",
          "height": 195
        },
        "id": "zCK0VZYKEn-A",
        "outputId": "9775abd7-b943-4586-864c-273939c2197f"
      },
      "source": [
        "train.head()"
      ],
      "execution_count": 955,
      "outputs": [
        {
          "output_type": "execute_result",
          "data": {
            "text/html": [
              "<div>\n",
              "<style scoped>\n",
              "    .dataframe tbody tr th:only-of-type {\n",
              "        vertical-align: middle;\n",
              "    }\n",
              "\n",
              "    .dataframe tbody tr th {\n",
              "        vertical-align: top;\n",
              "    }\n",
              "\n",
              "    .dataframe thead th {\n",
              "        text-align: right;\n",
              "    }\n",
              "</style>\n",
              "<table border=\"1\" class=\"dataframe\">\n",
              "  <thead>\n",
              "    <tr style=\"text-align: right;\">\n",
              "      <th></th>\n",
              "      <th>PassengerId</th>\n",
              "      <th>Survived</th>\n",
              "      <th>Pclass</th>\n",
              "      <th>Sex</th>\n",
              "      <th>Age</th>\n",
              "      <th>SibSp</th>\n",
              "      <th>Parch</th>\n",
              "      <th>Fare</th>\n",
              "      <th>Embarked</th>\n",
              "    </tr>\n",
              "  </thead>\n",
              "  <tbody>\n",
              "    <tr>\n",
              "      <th>0</th>\n",
              "      <td>1</td>\n",
              "      <td>0</td>\n",
              "      <td>3</td>\n",
              "      <td>1</td>\n",
              "      <td>22.0</td>\n",
              "      <td>1</td>\n",
              "      <td>0</td>\n",
              "      <td>7.2500</td>\n",
              "      <td>2</td>\n",
              "    </tr>\n",
              "    <tr>\n",
              "      <th>1</th>\n",
              "      <td>2</td>\n",
              "      <td>1</td>\n",
              "      <td>1</td>\n",
              "      <td>0</td>\n",
              "      <td>38.0</td>\n",
              "      <td>1</td>\n",
              "      <td>0</td>\n",
              "      <td>71.2833</td>\n",
              "      <td>0</td>\n",
              "    </tr>\n",
              "    <tr>\n",
              "      <th>2</th>\n",
              "      <td>3</td>\n",
              "      <td>1</td>\n",
              "      <td>3</td>\n",
              "      <td>0</td>\n",
              "      <td>26.0</td>\n",
              "      <td>0</td>\n",
              "      <td>0</td>\n",
              "      <td>7.9250</td>\n",
              "      <td>2</td>\n",
              "    </tr>\n",
              "    <tr>\n",
              "      <th>3</th>\n",
              "      <td>4</td>\n",
              "      <td>1</td>\n",
              "      <td>1</td>\n",
              "      <td>0</td>\n",
              "      <td>35.0</td>\n",
              "      <td>1</td>\n",
              "      <td>0</td>\n",
              "      <td>53.1000</td>\n",
              "      <td>2</td>\n",
              "    </tr>\n",
              "    <tr>\n",
              "      <th>4</th>\n",
              "      <td>5</td>\n",
              "      <td>0</td>\n",
              "      <td>3</td>\n",
              "      <td>1</td>\n",
              "      <td>35.0</td>\n",
              "      <td>0</td>\n",
              "      <td>0</td>\n",
              "      <td>8.0500</td>\n",
              "      <td>2</td>\n",
              "    </tr>\n",
              "  </tbody>\n",
              "</table>\n",
              "</div>"
            ],
            "text/plain": [
              "   PassengerId  Survived  Pclass  Sex   Age  SibSp  Parch     Fare  Embarked\n",
              "0            1         0       3    1  22.0      1      0   7.2500         2\n",
              "1            2         1       1    0  38.0      1      0  71.2833         0\n",
              "2            3         1       3    0  26.0      0      0   7.9250         2\n",
              "3            4         1       1    0  35.0      1      0  53.1000         2\n",
              "4            5         0       3    1  35.0      0      0   8.0500         2"
            ]
          },
          "metadata": {
            "tags": []
          },
          "execution_count": 955
        }
      ]
    },
    {
      "cell_type": "code",
      "metadata": {
        "colab": {
          "base_uri": "https://localhost:8080/",
          "height": 195
        },
        "id": "8NYAInsfDmZy",
        "outputId": "28fd4372-afbe-4af8-e060-db1602fcf794"
      },
      "source": [
        "test.head()"
      ],
      "execution_count": 956,
      "outputs": [
        {
          "output_type": "execute_result",
          "data": {
            "text/html": [
              "<div>\n",
              "<style scoped>\n",
              "    .dataframe tbody tr th:only-of-type {\n",
              "        vertical-align: middle;\n",
              "    }\n",
              "\n",
              "    .dataframe tbody tr th {\n",
              "        vertical-align: top;\n",
              "    }\n",
              "\n",
              "    .dataframe thead th {\n",
              "        text-align: right;\n",
              "    }\n",
              "</style>\n",
              "<table border=\"1\" class=\"dataframe\">\n",
              "  <thead>\n",
              "    <tr style=\"text-align: right;\">\n",
              "      <th></th>\n",
              "      <th>PassengerId</th>\n",
              "      <th>Pclass</th>\n",
              "      <th>Sex</th>\n",
              "      <th>Age</th>\n",
              "      <th>SibSp</th>\n",
              "      <th>Parch</th>\n",
              "      <th>Fare</th>\n",
              "      <th>Embarked</th>\n",
              "    </tr>\n",
              "  </thead>\n",
              "  <tbody>\n",
              "    <tr>\n",
              "      <th>0</th>\n",
              "      <td>892</td>\n",
              "      <td>3</td>\n",
              "      <td>1</td>\n",
              "      <td>34.5</td>\n",
              "      <td>0</td>\n",
              "      <td>0</td>\n",
              "      <td>7.8292</td>\n",
              "      <td>1</td>\n",
              "    </tr>\n",
              "    <tr>\n",
              "      <th>1</th>\n",
              "      <td>893</td>\n",
              "      <td>3</td>\n",
              "      <td>0</td>\n",
              "      <td>47.0</td>\n",
              "      <td>1</td>\n",
              "      <td>0</td>\n",
              "      <td>7.0000</td>\n",
              "      <td>2</td>\n",
              "    </tr>\n",
              "    <tr>\n",
              "      <th>2</th>\n",
              "      <td>894</td>\n",
              "      <td>2</td>\n",
              "      <td>1</td>\n",
              "      <td>62.0</td>\n",
              "      <td>0</td>\n",
              "      <td>0</td>\n",
              "      <td>9.6875</td>\n",
              "      <td>1</td>\n",
              "    </tr>\n",
              "    <tr>\n",
              "      <th>3</th>\n",
              "      <td>895</td>\n",
              "      <td>3</td>\n",
              "      <td>1</td>\n",
              "      <td>27.0</td>\n",
              "      <td>0</td>\n",
              "      <td>0</td>\n",
              "      <td>8.6625</td>\n",
              "      <td>2</td>\n",
              "    </tr>\n",
              "    <tr>\n",
              "      <th>4</th>\n",
              "      <td>896</td>\n",
              "      <td>3</td>\n",
              "      <td>0</td>\n",
              "      <td>22.0</td>\n",
              "      <td>1</td>\n",
              "      <td>1</td>\n",
              "      <td>12.2875</td>\n",
              "      <td>2</td>\n",
              "    </tr>\n",
              "  </tbody>\n",
              "</table>\n",
              "</div>"
            ],
            "text/plain": [
              "   PassengerId  Pclass  Sex   Age  SibSp  Parch     Fare  Embarked\n",
              "0          892       3    1  34.5      0      0   7.8292         1\n",
              "1          893       3    0  47.0      1      0   7.0000         2\n",
              "2          894       2    1  62.0      0      0   9.6875         1\n",
              "3          895       3    1  27.0      0      0   8.6625         2\n",
              "4          896       3    0  22.0      1      1  12.2875         2"
            ]
          },
          "metadata": {
            "tags": []
          },
          "execution_count": 956
        }
      ]
    },
    {
      "cell_type": "markdown",
      "metadata": {
        "id": "Z9YPhY-k_R8V"
      },
      "source": [
        "## Models"
      ]
    },
    {
      "cell_type": "markdown",
      "metadata": {
        "id": "tPxYXhmvkVnM"
      },
      "source": [
        "### Percentage"
      ]
    },
    {
      "cell_type": "code",
      "metadata": {
        "id": "gUkj1gVwkVGT"
      },
      "source": [
        "def percentage(y_pred):\n",
        "  survived = 0\n",
        "  not_survived = 0\n",
        "  for i in range (0,418):\n",
        "    if (y_pred[i] == 1) :\n",
        "      survived = survived + 1\n",
        "    else :\n",
        "      not_survived = not_survived +1\n",
        "\n",
        "  total=418\n",
        "  p_survived = survived/total * 100\n",
        "  p_not_survived = not_survived/total * 100\n",
        "\n",
        "  print(\"Percentage of people predicted to survive\",p_survived)\n",
        "  print(\"Percentage of people predicted to not survive\",p_not_survived)"
      ],
      "execution_count": 964,
      "outputs": []
    },
    {
      "cell_type": "markdown",
      "metadata": {
        "id": "bnXjs1Nttv8I"
      },
      "source": [
        "### Dummy Classifier"
      ]
    },
    {
      "cell_type": "markdown",
      "metadata": {
        "id": "35E09i03tzrr"
      },
      "source": [
        "The dummy classifier is used as a baseline model"
      ]
    },
    {
      "cell_type": "code",
      "metadata": {
        "colab": {
          "base_uri": "https://localhost:8080/"
        },
        "id": "Ne_DFPxktzRm",
        "outputId": "57a86580-792a-49e4-c778-70ae1406194b"
      },
      "source": [
        "from sklearn.dummy import DummyClassifier\n",
        "dummy=DummyClassifier(random_state=0)\n",
        "dummy.fit(X,y)"
      ],
      "execution_count": 1009,
      "outputs": [
        {
          "output_type": "stream",
          "text": [
            "/usr/local/lib/python3.7/dist-packages/sklearn/dummy.py:132: FutureWarning: The default value of strategy will change from stratified to prior in 0.24.\n",
            "  \"stratified to prior in 0.24.\", FutureWarning)\n"
          ],
          "name": "stderr"
        },
        {
          "output_type": "execute_result",
          "data": {
            "text/plain": [
              "DummyClassifier(constant=None, random_state=0, strategy='warn')"
            ]
          },
          "metadata": {
            "tags": []
          },
          "execution_count": 1009
        }
      ]
    },
    {
      "cell_type": "code",
      "metadata": {
        "id": "fWbdYPmit9IR"
      },
      "source": [
        "y_pred_dummy = dummy.predict(test)"
      ],
      "execution_count": 1010,
      "outputs": []
    },
    {
      "cell_type": "code",
      "metadata": {
        "colab": {
          "base_uri": "https://localhost:8080/"
        },
        "id": "CKADK-DWuEbQ",
        "outputId": "4abef726-8208-47a8-d2d8-ced863394eb8"
      },
      "source": [
        "percentage(y_pred_dummy)"
      ],
      "execution_count": 1011,
      "outputs": [
        {
          "output_type": "stream",
          "text": [
            "Percentage of people predicted to survive 37.08133971291866\n",
            "Percentage of people predicted to not survive 62.91866028708134\n"
          ],
          "name": "stdout"
        }
      ]
    },
    {
      "cell_type": "markdown",
      "metadata": {
        "id": "Jw0r73W6rZKv"
      },
      "source": [
        "### Artificial Neural Network"
      ]
    },
    {
      "cell_type": "code",
      "metadata": {
        "id": "WW-96BmcCgAI"
      },
      "source": [
        "X = train.drop([\"Survived\"],axis=1)\n",
        "y = train[\"Survived\"]"
      ],
      "execution_count": 957,
      "outputs": []
    },
    {
      "cell_type": "markdown",
      "metadata": {
        "id": "4uVBqgWTrcy2"
      },
      "source": [
        "We split the training data in a 70/30 percent manner"
      ]
    },
    {
      "cell_type": "code",
      "metadata": {
        "id": "IBJai4m6Cl96"
      },
      "source": [
        "X_train,X_test,y_train,y_test=train_test_split(X,y,random_state=42,test_size=0.3)"
      ],
      "execution_count": 958,
      "outputs": []
    },
    {
      "cell_type": "code",
      "metadata": {
        "id": "ne0fTdnV79d-",
        "colab": {
          "base_uri": "https://localhost:8080/"
        },
        "outputId": "1692a947-b173-48a3-bfe6-378079b9a531"
      },
      "source": [
        "model = Sequential()\n",
        "\n",
        "model.add(Dense(units = 32, activation='relu', input_dim = 8))\n",
        "model.add(Dense(units = 16, activation='relu'))\n",
        "model.add(Dense(units = 1, activation = 'sigmoid'))\n",
        "\n",
        "model.compile(optimizer=\"adam\",loss='binary_crossentropy',metrics=['accuracy'])\n",
        "model.summary()"
      ],
      "execution_count": 959,
      "outputs": [
        {
          "output_type": "stream",
          "text": [
            "Model: \"sequential_12\"\n",
            "_________________________________________________________________\n",
            "Layer (type)                 Output Shape              Param #   \n",
            "=================================================================\n",
            "dense_36 (Dense)             (None, 32)                288       \n",
            "_________________________________________________________________\n",
            "dense_37 (Dense)             (None, 16)                528       \n",
            "_________________________________________________________________\n",
            "dense_38 (Dense)             (None, 1)                 17        \n",
            "=================================================================\n",
            "Total params: 833\n",
            "Trainable params: 833\n",
            "Non-trainable params: 0\n",
            "_________________________________________________________________\n"
          ],
          "name": "stdout"
        }
      ]
    },
    {
      "cell_type": "code",
      "metadata": {
        "id": "dHMTmz5lCcrY",
        "colab": {
          "base_uri": "https://localhost:8080/"
        },
        "outputId": "25869f9c-44e9-4490-e9a6-ff71b378d6ee"
      },
      "source": [
        "history = model.fit(X_train, y_train, batch_size = 64, epochs = 50,validation_data=(X_test,y_test))"
      ],
      "execution_count": 960,
      "outputs": [
        {
          "output_type": "stream",
          "text": [
            "Epoch 1/50\n",
            "10/10 [==============================] - 1s 33ms/step - loss: 18.3958 - accuracy: 0.6397 - val_loss: 9.4443 - val_accuracy: 0.5858\n",
            "Epoch 2/50\n",
            "10/10 [==============================] - 0s 4ms/step - loss: 6.5520 - accuracy: 0.6203 - val_loss: 2.6029 - val_accuracy: 0.4254\n",
            "Epoch 3/50\n",
            "10/10 [==============================] - 0s 7ms/step - loss: 2.6141 - accuracy: 0.4355 - val_loss: 1.5315 - val_accuracy: 0.6007\n",
            "Epoch 4/50\n",
            "10/10 [==============================] - 0s 4ms/step - loss: 1.5305 - accuracy: 0.6408 - val_loss: 0.6528 - val_accuracy: 0.7090\n",
            "Epoch 5/50\n",
            "10/10 [==============================] - 0s 4ms/step - loss: 0.8581 - accuracy: 0.5555 - val_loss: 0.9291 - val_accuracy: 0.6455\n",
            "Epoch 6/50\n",
            "10/10 [==============================] - 0s 4ms/step - loss: 0.9040 - accuracy: 0.6443 - val_loss: 0.6195 - val_accuracy: 0.7351\n",
            "Epoch 7/50\n",
            "10/10 [==============================] - 0s 6ms/step - loss: 0.6736 - accuracy: 0.6634 - val_loss: 0.5968 - val_accuracy: 0.7201\n",
            "Epoch 8/50\n",
            "10/10 [==============================] - 0s 4ms/step - loss: 0.6579 - accuracy: 0.6861 - val_loss: 0.6346 - val_accuracy: 0.6567\n",
            "Epoch 9/50\n",
            "10/10 [==============================] - 0s 4ms/step - loss: 0.6203 - accuracy: 0.7010 - val_loss: 0.5989 - val_accuracy: 0.7015\n",
            "Epoch 10/50\n",
            "10/10 [==============================] - 0s 4ms/step - loss: 0.6306 - accuracy: 0.6823 - val_loss: 0.6019 - val_accuracy: 0.6642\n",
            "Epoch 11/50\n",
            "10/10 [==============================] - 0s 7ms/step - loss: 0.5989 - accuracy: 0.6937 - val_loss: 0.5900 - val_accuracy: 0.7015\n",
            "Epoch 12/50\n",
            "10/10 [==============================] - 0s 4ms/step - loss: 0.6064 - accuracy: 0.6870 - val_loss: 0.5998 - val_accuracy: 0.7351\n",
            "Epoch 13/50\n",
            "10/10 [==============================] - 0s 4ms/step - loss: 0.6191 - accuracy: 0.6506 - val_loss: 0.5874 - val_accuracy: 0.6903\n",
            "Epoch 14/50\n",
            "10/10 [==============================] - 0s 3ms/step - loss: 0.6123 - accuracy: 0.6735 - val_loss: 0.5861 - val_accuracy: 0.6940\n",
            "Epoch 15/50\n",
            "10/10 [==============================] - 0s 5ms/step - loss: 0.6144 - accuracy: 0.6776 - val_loss: 0.6018 - val_accuracy: 0.6754\n",
            "Epoch 16/50\n",
            "10/10 [==============================] - 0s 4ms/step - loss: 0.6250 - accuracy: 0.6585 - val_loss: 0.5833 - val_accuracy: 0.6940\n",
            "Epoch 17/50\n",
            "10/10 [==============================] - 0s 5ms/step - loss: 0.6045 - accuracy: 0.6891 - val_loss: 0.5847 - val_accuracy: 0.6940\n",
            "Epoch 18/50\n",
            "10/10 [==============================] - 0s 4ms/step - loss: 0.6057 - accuracy: 0.6739 - val_loss: 0.5925 - val_accuracy: 0.6754\n",
            "Epoch 19/50\n",
            "10/10 [==============================] - 0s 4ms/step - loss: 0.5894 - accuracy: 0.6921 - val_loss: 0.5991 - val_accuracy: 0.6791\n",
            "Epoch 20/50\n",
            "10/10 [==============================] - 0s 4ms/step - loss: 0.6070 - accuracy: 0.6739 - val_loss: 0.6315 - val_accuracy: 0.6642\n",
            "Epoch 21/50\n",
            "10/10 [==============================] - 0s 4ms/step - loss: 0.5965 - accuracy: 0.6954 - val_loss: 0.5971 - val_accuracy: 0.6716\n",
            "Epoch 22/50\n",
            "10/10 [==============================] - 0s 4ms/step - loss: 0.6002 - accuracy: 0.6934 - val_loss: 0.5917 - val_accuracy: 0.6791\n",
            "Epoch 23/50\n",
            "10/10 [==============================] - 0s 6ms/step - loss: 0.5813 - accuracy: 0.7023 - val_loss: 0.5923 - val_accuracy: 0.6866\n",
            "Epoch 24/50\n",
            "10/10 [==============================] - 0s 4ms/step - loss: 0.5713 - accuracy: 0.7224 - val_loss: 0.5744 - val_accuracy: 0.7015\n",
            "Epoch 25/50\n",
            "10/10 [==============================] - 0s 4ms/step - loss: 0.5788 - accuracy: 0.7052 - val_loss: 0.5733 - val_accuracy: 0.7052\n",
            "Epoch 26/50\n",
            "10/10 [==============================] - 0s 3ms/step - loss: 0.5808 - accuracy: 0.6948 - val_loss: 0.5787 - val_accuracy: 0.7313\n",
            "Epoch 27/50\n",
            "10/10 [==============================] - 0s 3ms/step - loss: 0.5723 - accuracy: 0.7105 - val_loss: 0.5765 - val_accuracy: 0.7276\n",
            "Epoch 28/50\n",
            "10/10 [==============================] - 0s 3ms/step - loss: 0.5818 - accuracy: 0.6670 - val_loss: 0.5745 - val_accuracy: 0.7127\n",
            "Epoch 29/50\n",
            "10/10 [==============================] - 0s 3ms/step - loss: 0.5693 - accuracy: 0.7049 - val_loss: 0.6160 - val_accuracy: 0.6530\n",
            "Epoch 30/50\n",
            "10/10 [==============================] - 0s 4ms/step - loss: 0.5709 - accuracy: 0.7042 - val_loss: 0.5824 - val_accuracy: 0.6828\n",
            "Epoch 31/50\n",
            "10/10 [==============================] - 0s 4ms/step - loss: 0.5620 - accuracy: 0.7034 - val_loss: 0.5846 - val_accuracy: 0.6791\n",
            "Epoch 32/50\n",
            "10/10 [==============================] - 0s 4ms/step - loss: 0.5653 - accuracy: 0.7089 - val_loss: 0.5732 - val_accuracy: 0.6978\n",
            "Epoch 33/50\n",
            "10/10 [==============================] - 0s 4ms/step - loss: 0.5364 - accuracy: 0.7322 - val_loss: 0.5843 - val_accuracy: 0.7575\n",
            "Epoch 34/50\n",
            "10/10 [==============================] - 0s 6ms/step - loss: 0.5768 - accuracy: 0.6855 - val_loss: 0.5783 - val_accuracy: 0.7537\n",
            "Epoch 35/50\n",
            "10/10 [==============================] - 0s 4ms/step - loss: 0.5790 - accuracy: 0.7118 - val_loss: 0.5802 - val_accuracy: 0.7724\n",
            "Epoch 36/50\n",
            "10/10 [==============================] - 0s 4ms/step - loss: 0.5649 - accuracy: 0.7220 - val_loss: 0.6043 - val_accuracy: 0.7090\n",
            "Epoch 37/50\n",
            "10/10 [==============================] - 0s 4ms/step - loss: 0.5871 - accuracy: 0.6814 - val_loss: 0.6003 - val_accuracy: 0.7239\n",
            "Epoch 38/50\n",
            "10/10 [==============================] - 0s 4ms/step - loss: 0.5921 - accuracy: 0.6947 - val_loss: 0.5729 - val_accuracy: 0.7537\n",
            "Epoch 39/50\n",
            "10/10 [==============================] - 0s 5ms/step - loss: 0.5702 - accuracy: 0.7203 - val_loss: 0.5672 - val_accuracy: 0.7239\n",
            "Epoch 40/50\n",
            "10/10 [==============================] - 0s 4ms/step - loss: 0.5753 - accuracy: 0.6978 - val_loss: 0.5678 - val_accuracy: 0.7313\n",
            "Epoch 41/50\n",
            "10/10 [==============================] - 0s 6ms/step - loss: 0.5340 - accuracy: 0.7434 - val_loss: 0.6021 - val_accuracy: 0.7090\n",
            "Epoch 42/50\n",
            "10/10 [==============================] - 0s 5ms/step - loss: 0.5872 - accuracy: 0.6903 - val_loss: 0.5982 - val_accuracy: 0.7276\n",
            "Epoch 43/50\n",
            "10/10 [==============================] - 0s 4ms/step - loss: 0.5612 - accuracy: 0.7117 - val_loss: 0.5690 - val_accuracy: 0.7351\n",
            "Epoch 44/50\n",
            "10/10 [==============================] - 0s 4ms/step - loss: 0.5754 - accuracy: 0.7079 - val_loss: 0.5677 - val_accuracy: 0.6940\n",
            "Epoch 45/50\n",
            "10/10 [==============================] - 0s 4ms/step - loss: 0.5289 - accuracy: 0.7351 - val_loss: 0.5596 - val_accuracy: 0.7425\n",
            "Epoch 46/50\n",
            "10/10 [==============================] - 0s 4ms/step - loss: 0.5704 - accuracy: 0.7106 - val_loss: 0.5616 - val_accuracy: 0.6978\n",
            "Epoch 47/50\n",
            "10/10 [==============================] - 0s 4ms/step - loss: 0.5614 - accuracy: 0.7043 - val_loss: 0.5728 - val_accuracy: 0.6866\n",
            "Epoch 48/50\n",
            "10/10 [==============================] - 0s 3ms/step - loss: 0.5183 - accuracy: 0.7409 - val_loss: 0.5613 - val_accuracy: 0.7015\n",
            "Epoch 49/50\n",
            "10/10 [==============================] - 0s 4ms/step - loss: 0.5452 - accuracy: 0.7197 - val_loss: 0.6105 - val_accuracy: 0.6418\n",
            "Epoch 50/50\n",
            "10/10 [==============================] - 0s 4ms/step - loss: 0.5447 - accuracy: 0.7085 - val_loss: 0.5596 - val_accuracy: 0.6940\n"
          ],
          "name": "stdout"
        }
      ]
    },
    {
      "cell_type": "markdown",
      "metadata": {
        "id": "XXj5R8J-rtIU"
      },
      "source": [
        "Here we see that the ANN predicted 18.6% of people to survived the incident."
      ]
    },
    {
      "cell_type": "code",
      "metadata": {
        "colab": {
          "base_uri": "https://localhost:8080/"
        },
        "id": "uEuzkyRkH8Ok",
        "outputId": "79e23a6d-9f87-4a2e-89e6-514b490bb18a"
      },
      "source": [
        "y_pred_ann = model.predict(test)\n",
        "\n",
        "survived = 0\n",
        "not_survived = 0\n",
        "for i in range (0,418):\n",
        "  if (y_pred_ann[i] >= 0.5) :\n",
        "    survived = survived + 1\n",
        "  else :\n",
        "    not_survived = not_survived +1\n",
        "\n",
        "total=418\n",
        "p_survived = survived/total * 100\n",
        "p_not_survived = not_survived/total * 100\n",
        "\n",
        "print(\"Percentage of people predicted to survive\",p_survived)\n",
        "print(\"Percentage of people predicted to not survive\",p_not_survived)"
      ],
      "execution_count": 961,
      "outputs": [
        {
          "output_type": "stream",
          "text": [
            "Percentage of people predicted to survive 18.660287081339714\n",
            "Percentage of people predicted to not survive 81.3397129186603\n"
          ],
          "name": "stdout"
        }
      ]
    },
    {
      "cell_type": "markdown",
      "metadata": {
        "id": "OlRGMmkbr-7j"
      },
      "source": [
        "Below are a few plots to understand how the ann trained per epoch"
      ]
    },
    {
      "cell_type": "code",
      "metadata": {
        "colab": {
          "base_uri": "https://localhost:8080/",
          "height": 265
        },
        "id": "uC-QE75M9q_S",
        "outputId": "ec0c9ef1-4e45-4dad-fedf-7c30e949d976"
      },
      "source": [
        "plt.plot(history.history['loss'], label='train')\n",
        "plt.plot(history.history['val_loss'], label='test')\n",
        "plt.legend()\n",
        "plt.show()"
      ],
      "execution_count": 962,
      "outputs": [
        {
          "output_type": "display_data",
          "data": {
            "image/png": "[encoded data removed]",
            "text/plain": [
              "<Figure size 432x288 with 1 Axes>"
            ]
          },
          "metadata": {
            "tags": [],
            "needs_background": "light"
          }
        }
      ]
    },
    {
      "cell_type": "code",
      "metadata": {
        "colab": {
          "base_uri": "https://localhost:8080/",
          "height": 265
        },
        "id": "W2Gucd8z-xZn",
        "outputId": "fd8c0d0a-f436-48dc-ea13-5166a32c7038"
      },
      "source": [
        "plt.plot(history.history['accuracy'], label='train')\n",
        "plt.plot(history.history['val_accuracy'], label='test')\n",
        "plt.legend()\n",
        "plt.show()"
      ],
      "execution_count": 963,
      "outputs": [
        {
          "output_type": "display_data",
          "data": {
            "image/png": "[encoded data removed]",
            "text/plain": [
              "<Figure size 432x288 with 1 Axes>"
            ]
          },
          "metadata": {
            "tags": [],
            "needs_background": "light"
          }
        }
      ]
    },
    {
      "cell_type": "markdown",
      "metadata": {
        "id": "SA7yELxQyqFz"
      },
      "source": [
        "### GridCV and Logistic Regression"
      ]
    },
    {
      "cell_type": "code",
      "metadata": {
        "id": "v1aVfj1bw6Kw"
      },
      "source": [
        "from sklearn.model_selection import GridSearchCV\n",
        "from sklearn.linear_model import LogisticRegression\n",
        "lr = LogisticRegression()\n",
        "parameters = [{'penalty' :['l1','l2','elasticnet'],'C': [1, 10, 100, 1000], 'solver': ['liblinear']},\n",
        "              {'penalty' :['l1','l2','elasticnet'],'C': [1, 10, 100, 1000], 'solver': ['saga']},\n",
        "              {'penalty' :['l1','l2','elasticnet'],'C': [1, 10, 100, 1000], 'solver': ['lbfgs']}]\n",
        "grid_search=GridSearchCV(estimator=lr,\n",
        "                         param_grid=parameters,\n",
        "                         scoring='accuracy',\n",
        "                         cv=10,\n",
        "                         n_jobs=-1)\n",
        "\n",
        "grid_search = grid_search.fit(X,y)"
      ],
      "execution_count": 977,
      "outputs": []
    },
    {
      "cell_type": "code",
      "metadata": {
        "id": "vwazlUG_hxYE"
      },
      "source": [
        "y_pred_lr = grid_search.predict(test)"
      ],
      "execution_count": 978,
      "outputs": []
    },
    {
      "cell_type": "markdown",
      "metadata": {
        "id": "xqlDkBles9j6"
      },
      "source": [
        "The Logistic Regression predictes that only 38.2% of people to survived the incident."
      ]
    },
    {
      "cell_type": "code",
      "metadata": {
        "colab": {
          "base_uri": "https://localhost:8080/"
        },
        "id": "eQiRsodzkgQH",
        "outputId": "71affc69-d983-4062-c749-42f248167f19"
      },
      "source": [
        "percentage(y_pred_lr)"
      ],
      "execution_count": 979,
      "outputs": [
        {
          "output_type": "stream",
          "text": [
            "Percentage of people predicted to survive 38.27751196172249\n",
            "Percentage of people predicted to not survive 61.72248803827751\n"
          ],
          "name": "stdout"
        }
      ]
    },
    {
      "cell_type": "markdown",
      "metadata": {
        "id": "ZAKXbZJ_7y7B"
      },
      "source": [
        "### SVM"
      ]
    },
    {
      "cell_type": "code",
      "metadata": {
        "colab": {
          "base_uri": "https://localhost:8080/"
        },
        "id": "as7-7-fe15kH",
        "outputId": "597b2eb0-69ad-4fb7-dc05-e85113daba3b"
      },
      "source": [
        "from sklearn.svm import SVC\n",
        "svc = SVC()\n",
        "svc.fit(X,y)"
      ],
      "execution_count": 965,
      "outputs": [
        {
          "output_type": "execute_result",
          "data": {
            "text/plain": [
              "SVC(C=1.0, break_ties=False, cache_size=200, class_weight=None, coef0=0.0,\n",
              "    decision_function_shape='ovr', degree=3, gamma='scale', kernel='rbf',\n",
              "    max_iter=-1, probability=False, random_state=None, shrinking=True,\n",
              "    tol=0.001, verbose=False)"
            ]
          },
          "metadata": {
            "tags": []
          },
          "execution_count": 965
        }
      ]
    },
    {
      "cell_type": "code",
      "metadata": {
        "id": "HNTiCNiV2uOo"
      },
      "source": [
        "y_pred_svc=svc.predict(test)"
      ],
      "execution_count": 966,
      "outputs": []
    },
    {
      "cell_type": "markdown",
      "metadata": {
        "id": "L-B2RvS1s0Z6"
      },
      "source": [
        "The SVC predictes that only 3.8% of people survived the incident."
      ]
    },
    {
      "cell_type": "code",
      "metadata": {
        "colab": {
          "base_uri": "https://localhost:8080/"
        },
        "id": "Z0TbHv0ChPTR",
        "outputId": "613e4a12-c142-4e14-d7b3-f98c35035717"
      },
      "source": [
        "percentage(y_pred_svc)"
      ],
      "execution_count": 967,
      "outputs": [
        {
          "output_type": "stream",
          "text": [
            "Percentage of people predicted to survive 3.827751196172249\n",
            "Percentage of people predicted to not survive 96.17224880382776\n"
          ],
          "name": "stdout"
        }
      ]
    },
    {
      "cell_type": "markdown",
      "metadata": {
        "id": "NWCPCwQJ-CQR"
      },
      "source": [
        "### Random Forest"
      ]
    },
    {
      "cell_type": "code",
      "metadata": {
        "id": "KWP34Jiy-But",
        "colab": {
          "base_uri": "https://localhost:8080/"
        },
        "outputId": "fc773acd-107d-4e27-ec34-60e0937e91c2"
      },
      "source": [
        "from sklearn.ensemble import RandomForestClassifier\n",
        "rf = RandomForestClassifier()\n",
        "rf.fit(X,y)"
      ],
      "execution_count": 980,
      "outputs": [
        {
          "output_type": "execute_result",
          "data": {
            "text/plain": [
              "RandomForestClassifier(bootstrap=True, ccp_alpha=0.0, class_weight=None,\n",
              "                       criterion='gini', max_depth=None, max_features='auto',\n",
              "                       max_leaf_nodes=None, max_samples=None,\n",
              "                       min_impurity_decrease=0.0, min_impurity_split=None,\n",
              "                       min_samples_leaf=1, min_samples_split=2,\n",
              "                       min_weight_fraction_leaf=0.0, n_estimators=100,\n",
              "                       n_jobs=None, oob_score=False, random_state=None,\n",
              "                       verbose=0, warm_start=False)"
            ]
          },
          "metadata": {
            "tags": []
          },
          "execution_count": 980
        }
      ]
    },
    {
      "cell_type": "code",
      "metadata": {
        "id": "8yDr-cI2kljC"
      },
      "source": [
        "y_pred_rf=rf.predict(test)"
      ],
      "execution_count": 981,
      "outputs": []
    },
    {
      "cell_type": "markdown",
      "metadata": {
        "id": "1GycgJ4otIX-"
      },
      "source": [
        "The Random Forest model predictes that 30.1% of people survived the incident."
      ]
    },
    {
      "cell_type": "code",
      "metadata": {
        "colab": {
          "base_uri": "https://localhost:8080/"
        },
        "id": "w6sUUTC8kmRU",
        "outputId": "80fbe392-3a70-4b45-c8a5-5490e9152af2"
      },
      "source": [
        "percentage(y_pred_rf)"
      ],
      "execution_count": 982,
      "outputs": [
        {
          "output_type": "stream",
          "text": [
            "Percentage of people predicted to survive 30.14354066985646\n",
            "Percentage of people predicted to not survive 69.85645933014354\n"
          ],
          "name": "stdout"
        }
      ]
    },
    {
      "cell_type": "markdown",
      "metadata": {
        "id": "9MXHNP4ZIL_K"
      },
      "source": [
        "### Passive Agressive Classifier"
      ]
    },
    {
      "cell_type": "code",
      "metadata": {
        "colab": {
          "base_uri": "https://localhost:8080/"
        },
        "id": "H1wNkmmUILa4",
        "outputId": "f52e020e-89d6-40b5-c647-9f87fbc56fc7"
      },
      "source": [
        "from sklearn.linear_model import PassiveAggressiveClassifier\n",
        "PAC = PassiveAggressiveClassifier()\n",
        "PAC.fit(X,y)"
      ],
      "execution_count": 995,
      "outputs": [
        {
          "output_type": "execute_result",
          "data": {
            "text/plain": [
              "PassiveAggressiveClassifier(C=1.0, average=False, class_weight=None,\n",
              "                            early_stopping=False, fit_intercept=True,\n",
              "                            loss='hinge', max_iter=1000, n_iter_no_change=5,\n",
              "                            n_jobs=None, random_state=None, shuffle=True,\n",
              "                            tol=0.001, validation_fraction=0.1, verbose=0,\n",
              "                            warm_start=False)"
            ]
          },
          "metadata": {
            "tags": []
          },
          "execution_count": 995
        }
      ]
    },
    {
      "cell_type": "code",
      "metadata": {
        "id": "wjKx5zGgktka"
      },
      "source": [
        "y_pred_pa=PAC.predict(test)"
      ],
      "execution_count": 996,
      "outputs": []
    },
    {
      "cell_type": "markdown",
      "metadata": {
        "id": "PE4HNrUVumWi"
      },
      "source": [
        "The Passive Agressive model predictes that 31.8% of people survived the incident."
      ]
    },
    {
      "cell_type": "code",
      "metadata": {
        "colab": {
          "base_uri": "https://localhost:8080/"
        },
        "id": "skOYPaTBITvY",
        "outputId": "917360ca-1fad-4fd2-d47e-f69fbd2d57c2"
      },
      "source": [
        "percentage(y_pred_pa)"
      ],
      "execution_count": 997,
      "outputs": [
        {
          "output_type": "stream",
          "text": [
            "Percentage of people predicted to survive 31.818181818181817\n",
            "Percentage of people predicted to not survive 68.18181818181817\n"
          ],
          "name": "stdout"
        }
      ]
    }
  ]
}